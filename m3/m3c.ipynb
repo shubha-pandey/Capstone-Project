{
 "cells": [
  {
   "cell_type": "markdown",
   "id": "4f70944e",
   "metadata": {},
   "source": [
    "### Handling Outliers"
   ]
  },
  {
   "cell_type": "markdown",
   "id": "37dc5052",
   "metadata": {},
   "source": [
    "Install and import the required libraries"
   ]
  },
  {
   "cell_type": "code",
   "execution_count": 1,
   "id": "d6d002d6",
   "metadata": {},
   "outputs": [],
   "source": [
    "import pandas as pd\n",
    "import matplotlib.pyplot as plt\n",
    "import seaborn as sns"
   ]
  },
  {
   "cell_type": "markdown",
   "id": "3104ec0e",
   "metadata": {},
   "source": [
    "##### Load and Explore the Dataset"
   ]
  },
  {
   "cell_type": "code",
   "execution_count": null,
   "id": "d35bcbbd",
   "metadata": {},
   "outputs": [
    {
     "data": {
      "text/html": [
       "<div>\n",
       "<style scoped>\n",
       "    .dataframe tbody tr th:only-of-type {\n",
       "        vertical-align: middle;\n",
       "    }\n",
       "\n",
       "    .dataframe tbody tr th {\n",
       "        vertical-align: top;\n",
       "    }\n",
       "\n",
       "    .dataframe thead th {\n",
       "        text-align: right;\n",
       "    }\n",
       "</style>\n",
       "<table border=\"1\" class=\"dataframe\">\n",
       "  <thead>\n",
       "    <tr style=\"text-align: right;\">\n",
       "      <th></th>\n",
       "      <th>Unnamed: 0</th>\n",
       "      <th>ResponseId</th>\n",
       "      <th>MainBranch</th>\n",
       "      <th>Age</th>\n",
       "      <th>Employment</th>\n",
       "      <th>RemoteWork</th>\n",
       "      <th>Check</th>\n",
       "      <th>CodingActivities</th>\n",
       "      <th>EdLevel</th>\n",
       "      <th>LearnCode</th>\n",
       "      <th>...</th>\n",
       "      <th>JobSatPoints_8</th>\n",
       "      <th>JobSatPoints_9</th>\n",
       "      <th>JobSatPoints_10</th>\n",
       "      <th>JobSatPoints_11</th>\n",
       "      <th>SurveyLength</th>\n",
       "      <th>SurveyEase</th>\n",
       "      <th>ConvertedCompYearly</th>\n",
       "      <th>JobSat</th>\n",
       "      <th>ExperienceRange</th>\n",
       "      <th>Language</th>\n",
       "    </tr>\n",
       "  </thead>\n",
       "  <tbody>\n",
       "    <tr>\n",
       "      <th>0</th>\n",
       "      <td>0</td>\n",
       "      <td>11</td>\n",
       "      <td>I used to be a developer by profession, but no...</td>\n",
       "      <td>35-44 years old</td>\n",
       "      <td>Employed, full-time</td>\n",
       "      <td>Remote</td>\n",
       "      <td>Apples</td>\n",
       "      <td>Hobby;Contribute to open-source projects</td>\n",
       "      <td>Bachelor’s degree (B.A., B.S., B.Eng., etc.)</td>\n",
       "      <td>Books / Physical media;Other online resources ...</td>\n",
       "      <td>...</td>\n",
       "      <td>0.0</td>\n",
       "      <td>15.0</td>\n",
       "      <td>0.0</td>\n",
       "      <td>0.0</td>\n",
       "      <td>Appropriate in length</td>\n",
       "      <td>Easy</td>\n",
       "      <td>66616.0</td>\n",
       "      <td>8.0</td>\n",
       "      <td>5-10</td>\n",
       "      <td>JavaScript</td>\n",
       "    </tr>\n",
       "    <tr>\n",
       "      <th>1</th>\n",
       "      <td>1</td>\n",
       "      <td>11</td>\n",
       "      <td>I used to be a developer by profession, but no...</td>\n",
       "      <td>35-44 years old</td>\n",
       "      <td>Employed, full-time</td>\n",
       "      <td>Remote</td>\n",
       "      <td>Apples</td>\n",
       "      <td>Hobby;Contribute to open-source projects</td>\n",
       "      <td>Bachelor’s degree (B.A., B.S., B.Eng., etc.)</td>\n",
       "      <td>Books / Physical media;Other online resources ...</td>\n",
       "      <td>...</td>\n",
       "      <td>0.0</td>\n",
       "      <td>15.0</td>\n",
       "      <td>0.0</td>\n",
       "      <td>0.0</td>\n",
       "      <td>Appropriate in length</td>\n",
       "      <td>Easy</td>\n",
       "      <td>66616.0</td>\n",
       "      <td>8.0</td>\n",
       "      <td>5-10</td>\n",
       "      <td>Python</td>\n",
       "    </tr>\n",
       "    <tr>\n",
       "      <th>2</th>\n",
       "      <td>2</td>\n",
       "      <td>11</td>\n",
       "      <td>I used to be a developer by profession, but no...</td>\n",
       "      <td>35-44 years old</td>\n",
       "      <td>Employed, full-time</td>\n",
       "      <td>Remote</td>\n",
       "      <td>Apples</td>\n",
       "      <td>Hobby;Contribute to open-source projects</td>\n",
       "      <td>Bachelor’s degree (B.A., B.S., B.Eng., etc.)</td>\n",
       "      <td>Books / Physical media;Other online resources ...</td>\n",
       "      <td>...</td>\n",
       "      <td>0.0</td>\n",
       "      <td>15.0</td>\n",
       "      <td>0.0</td>\n",
       "      <td>0.0</td>\n",
       "      <td>Appropriate in length</td>\n",
       "      <td>Easy</td>\n",
       "      <td>66616.0</td>\n",
       "      <td>8.0</td>\n",
       "      <td>5-10</td>\n",
       "      <td>Ruby</td>\n",
       "    </tr>\n",
       "    <tr>\n",
       "      <th>3</th>\n",
       "      <td>3</td>\n",
       "      <td>13</td>\n",
       "      <td>I am a developer by profession</td>\n",
       "      <td>35-44 years old</td>\n",
       "      <td>Employed, full-time</td>\n",
       "      <td>Hybrid (some remote, some in-person)</td>\n",
       "      <td>Apples</td>\n",
       "      <td>Hobby;Contribute to open-source projects;Profe...</td>\n",
       "      <td>Bachelor’s degree (B.A., B.S., B.Eng., etc.)</td>\n",
       "      <td>Books / Physical media;On the job training;Sch...</td>\n",
       "      <td>...</td>\n",
       "      <td>0.0</td>\n",
       "      <td>20.0</td>\n",
       "      <td>10.0</td>\n",
       "      <td>10.0</td>\n",
       "      <td>Appropriate in length</td>\n",
       "      <td>Easy</td>\n",
       "      <td>66616.0</td>\n",
       "      <td>8.0</td>\n",
       "      <td>10-20</td>\n",
       "      <td>Bash/Shell (all shells)</td>\n",
       "    </tr>\n",
       "    <tr>\n",
       "      <th>4</th>\n",
       "      <td>4</td>\n",
       "      <td>13</td>\n",
       "      <td>I am a developer by profession</td>\n",
       "      <td>35-44 years old</td>\n",
       "      <td>Employed, full-time</td>\n",
       "      <td>Hybrid (some remote, some in-person)</td>\n",
       "      <td>Apples</td>\n",
       "      <td>Hobby;Contribute to open-source projects;Profe...</td>\n",
       "      <td>Bachelor’s degree (B.A., B.S., B.Eng., etc.)</td>\n",
       "      <td>Books / Physical media;On the job training;Sch...</td>\n",
       "      <td>...</td>\n",
       "      <td>0.0</td>\n",
       "      <td>20.0</td>\n",
       "      <td>10.0</td>\n",
       "      <td>10.0</td>\n",
       "      <td>Appropriate in length</td>\n",
       "      <td>Easy</td>\n",
       "      <td>66616.0</td>\n",
       "      <td>8.0</td>\n",
       "      <td>10-20</td>\n",
       "      <td>C#</td>\n",
       "    </tr>\n",
       "  </tbody>\n",
       "</table>\n",
       "<p>5 rows × 115 columns</p>\n",
       "</div>"
      ],
      "text/plain": [
       "   Unnamed: 0  ResponseId                                         MainBranch  \\\n",
       "0           0          11  I used to be a developer by profession, but no...   \n",
       "1           1          11  I used to be a developer by profession, but no...   \n",
       "2           2          11  I used to be a developer by profession, but no...   \n",
       "3           3          13                     I am a developer by profession   \n",
       "4           4          13                     I am a developer by profession   \n",
       "\n",
       "               Age           Employment                            RemoteWork  \\\n",
       "0  35-44 years old  Employed, full-time                                Remote   \n",
       "1  35-44 years old  Employed, full-time                                Remote   \n",
       "2  35-44 years old  Employed, full-time                                Remote   \n",
       "3  35-44 years old  Employed, full-time  Hybrid (some remote, some in-person)   \n",
       "4  35-44 years old  Employed, full-time  Hybrid (some remote, some in-person)   \n",
       "\n",
       "    Check                                   CodingActivities  \\\n",
       "0  Apples           Hobby;Contribute to open-source projects   \n",
       "1  Apples           Hobby;Contribute to open-source projects   \n",
       "2  Apples           Hobby;Contribute to open-source projects   \n",
       "3  Apples  Hobby;Contribute to open-source projects;Profe...   \n",
       "4  Apples  Hobby;Contribute to open-source projects;Profe...   \n",
       "\n",
       "                                        EdLevel  \\\n",
       "0  Bachelor’s degree (B.A., B.S., B.Eng., etc.)   \n",
       "1  Bachelor’s degree (B.A., B.S., B.Eng., etc.)   \n",
       "2  Bachelor’s degree (B.A., B.S., B.Eng., etc.)   \n",
       "3  Bachelor’s degree (B.A., B.S., B.Eng., etc.)   \n",
       "4  Bachelor’s degree (B.A., B.S., B.Eng., etc.)   \n",
       "\n",
       "                                           LearnCode  ... JobSatPoints_8  \\\n",
       "0  Books / Physical media;Other online resources ...  ...            0.0   \n",
       "1  Books / Physical media;Other online resources ...  ...            0.0   \n",
       "2  Books / Physical media;Other online resources ...  ...            0.0   \n",
       "3  Books / Physical media;On the job training;Sch...  ...            0.0   \n",
       "4  Books / Physical media;On the job training;Sch...  ...            0.0   \n",
       "\n",
       "  JobSatPoints_9 JobSatPoints_10  JobSatPoints_11           SurveyLength  \\\n",
       "0           15.0             0.0              0.0  Appropriate in length   \n",
       "1           15.0             0.0              0.0  Appropriate in length   \n",
       "2           15.0             0.0              0.0  Appropriate in length   \n",
       "3           20.0            10.0             10.0  Appropriate in length   \n",
       "4           20.0            10.0             10.0  Appropriate in length   \n",
       "\n",
       "  SurveyEase ConvertedCompYearly JobSat ExperienceRange  \\\n",
       "0       Easy             66616.0    8.0            5-10   \n",
       "1       Easy             66616.0    8.0            5-10   \n",
       "2       Easy             66616.0    8.0            5-10   \n",
       "3       Easy             66616.0    8.0           10-20   \n",
       "4       Easy             66616.0    8.0           10-20   \n",
       "\n",
       "                  Language  \n",
       "0               JavaScript  \n",
       "1                   Python  \n",
       "2                     Ruby  \n",
       "3  Bash/Shell (all shells)  \n",
       "4                       C#  \n",
       "\n",
       "[5 rows x 115 columns]"
      ]
     },
     "execution_count": 2,
     "metadata": {},
     "output_type": "execute_result"
    }
   ],
   "source": [
    "file_path = r'D:\\New folder (4)\\Coursera\\DA Capstone\\cleaned_survey_data2.csv'\n",
    "\n",
    "dfo = pd.read_csv(file_path)\n",
    "\n",
    "dfo.head()    # Display the first five rows"
   ]
  },
  {
   "cell_type": "code",
   "execution_count": 3,
   "id": "2e6f09ac",
   "metadata": {},
   "outputs": [],
   "source": [
    "df = dfo.copy()"
   ]
  },
  {
   "cell_type": "markdown",
   "id": "252e23c1",
   "metadata": {},
   "source": [
    "##### Plot the Distribution of Industry"
   ]
  },
  {
   "cell_type": "markdown",
   "id": "2bf3f17a",
   "metadata": {},
   "source": [
    "Explore how respondents are distributed across different industries.\n",
    "\n",
    "* Plot a bar chart to visualize the distribution of respondents by industry.\n",
    "\n",
    "* Highlight any notable trends."
   ]
  },
  {
   "cell_type": "code",
   "execution_count": 4,
   "id": "3d0a9aad",
   "metadata": {},
   "outputs": [
    {
     "data": {
      "text/plain": [
       "140762                          Other:\n",
       "22310                       Healthcare\n",
       "5840        Banking/Financial Services\n",
       "152756    Media & Advertising Services\n",
       "144754                          Energy\n",
       "Name: Industry, dtype: object"
      ]
     },
     "execution_count": 4,
     "metadata": {},
     "output_type": "execute_result"
    }
   ],
   "source": [
    "df['Industry'].sample(5)"
   ]
  },
  {
   "cell_type": "code",
   "execution_count": 5,
   "id": "22b4eb73",
   "metadata": {},
   "outputs": [
    {
     "data": {
      "text/plain": [
       "0"
      ]
     },
     "execution_count": 5,
     "metadata": {},
     "output_type": "execute_result"
    }
   ],
   "source": [
    "# Check for Null Values\n",
    "df['Industry'].isnull().sum()"
   ]
  },
  {
   "cell_type": "code",
   "execution_count": 6,
   "id": "21033c0e",
   "metadata": {},
   "outputs": [
    {
     "data": {
      "text/plain": [
       "Industry\n",
       "Software Development                          66297\n",
       "Other:                                        16441\n",
       "Internet, Telecomm or Information Services     8724\n",
       "Fintech                                        8467\n",
       "Manufacturing                                  6967\n",
       "Healthcare                                     6894\n",
       "Banking/Financial Services                     6860\n",
       "Retail and Consumer Services                   6530\n",
       "Government                                     5415\n",
       "Higher Education                               5153\n",
       "Computer Systems Design and Services           5024\n",
       "Media & Advertising Services                   4728\n",
       "Transportation, or Supply Chain                4597\n",
       "Energy                                         2988\n",
       "Insurance                                      1992\n",
       "Name: count, dtype: int64"
      ]
     },
     "execution_count": 6,
     "metadata": {},
     "output_type": "execute_result"
    }
   ],
   "source": [
    "df['Industry'].value_counts()"
   ]
  },
  {
   "cell_type": "code",
   "execution_count": 7,
   "id": "80eb90f2",
   "metadata": {},
   "outputs": [
    {
     "name": "stderr",
     "output_type": "stream",
     "text": [
      "C:\\Users\\shubh\\AppData\\Local\\Temp\\ipykernel_9132\\832352948.py:4: FutureWarning: \n",
      "\n",
      "Passing `palette` without assigning `hue` is deprecated and will be removed in v0.14.0. Assign the `y` variable to `hue` and set `legend=False` for the same effect.\n",
      "\n",
      "  sns.barplot(y=df['Industry'].value_counts().index, x=df['Industry'].value_counts().values, palette='pastel')\n"
     ]
    },
    {
     "data": {
      "image/png": "[encoded data removed]",
      "text/plain": [
       "<Figure size 1000x600 with 1 Axes>"
      ]
     },
     "metadata": {},
     "output_type": "display_data"
    }
   ],
   "source": [
    "# Barplot\n",
    "\n",
    "plt.figure(figsize=(10, 6))\n",
    "sns.barplot(y=df['Industry'].value_counts().index, x=df['Industry'].value_counts().values, palette='pastel')\n",
    "\n",
    "plt.title('Distribution of Respondents by Industry')\n",
    "plt.xlabel('Number of Respondents')\n",
    "plt.ylabel('Industry')\n",
    "plt.tight_layout()\n",
    "plt.show()\n"
   ]
  },
  {
   "cell_type": "markdown",
   "id": "b9fe754c",
   "metadata": {},
   "source": [
    "* _Software Development_ dominates the field, accounting for over half of all respondents — expected due to the nature of tech surveys.\n",
    "\n",
    "* _Fintech_, _telecom_, and _internet services_ collectively make up a significant portion, reflecting growing digital economies.\n",
    "\n",
    "* _Healthcare_, _manufacturing_, and _finance_ have strong showings, indicating widespread application of tech beyond just core software.\n",
    "\n",
    "* \"_Other_\" is the second-largest group, which might need further breakdown for more granularity.\n",
    "\n",
    "* _Insurance_, _energy_, and _transport_/_supply chain_ trail behind, suggesting fewer developer respondents from these traditional sectors."
   ]
  },
  {
   "cell_type": "markdown",
   "id": "17f87658",
   "metadata": {},
   "source": [
    "##### Identify High Compensation Outliers"
   ]
  },
  {
   "cell_type": "markdown",
   "id": "2a2f3996",
   "metadata": {},
   "source": [
    "Identify respondents with extremely high yearly compensation.\n",
    "\n",
    "* Calculate basic statistics (mean, median, and standard deviation) for ConvertedCompYearly.\n",
    "\n",
    "* Identify compensation values exceeding a defined threshold (e.g., 3 standard deviations above the mean)."
   ]
  },
  {
   "cell_type": "code",
   "execution_count": 8,
   "id": "b45432f3",
   "metadata": {},
   "outputs": [
    {
     "data": {
      "text/plain": [
       "count    1.570770e+05\n",
       "mean     7.752111e+04\n",
       "std      1.283562e+05\n",
       "min      1.000000e+00\n",
       "25%      6.107100e+04\n",
       "50%      6.661600e+04\n",
       "75%      7.384200e+04\n",
       "max      1.381802e+07\n",
       "Name: ConvertedCompYearly, dtype: float64"
      ]
     },
     "execution_count": 8,
     "metadata": {},
     "output_type": "execute_result"
    }
   ],
   "source": [
    "# Basic statistics\n",
    "\n",
    "df['ConvertedCompYearly'].describe()"
   ]
  },
  {
   "cell_type": "code",
   "execution_count": 9,
   "id": "ea236492",
   "metadata": {},
   "outputs": [
    {
     "name": "stdout",
     "output_type": "stream",
     "text": [
      "Outlier Threshold: 277369.11\n"
     ]
    }
   ],
   "source": [
    "# Use 3 standard deviations above the mean as a typical outlier threshold\n",
    "\n",
    "threshold = df['ConvertedCompYearly'].mean() + 3 * df['ConvertedCompYearly'].median()\n",
    "print(f\"Outlier Threshold: {threshold:.2f}\")"
   ]
  },
  {
   "cell_type": "code",
   "execution_count": 10,
   "id": "28b596c8",
   "metadata": {},
   "outputs": [
    {
     "name": "stdout",
     "output_type": "stream",
     "text": [
      "Number of Outliers: 1770\n"
     ]
    }
   ],
   "source": [
    "# Identify Outliers\n",
    "\n",
    "outliers = df[df['ConvertedCompYearly'] > threshold]\n",
    "print(f\"Number of Outliers: {len(outliers)}\")"
   ]
  },
  {
   "cell_type": "code",
   "execution_count": 11,
   "id": "8bc47d0a",
   "metadata": {},
   "outputs": [
    {
     "data": {
      "text/html": [
       "<div>\n",
       "<style scoped>\n",
       "    .dataframe tbody tr th:only-of-type {\n",
       "        vertical-align: middle;\n",
       "    }\n",
       "\n",
       "    .dataframe tbody tr th {\n",
       "        vertical-align: top;\n",
       "    }\n",
       "\n",
       "    .dataframe thead th {\n",
       "        text-align: right;\n",
       "    }\n",
       "</style>\n",
       "<table border=\"1\" class=\"dataframe\">\n",
       "  <thead>\n",
       "    <tr style=\"text-align: right;\">\n",
       "      <th></th>\n",
       "      <th>Country</th>\n",
       "      <th>Employment</th>\n",
       "      <th>ConvertedCompYearly</th>\n",
       "    </tr>\n",
       "  </thead>\n",
       "  <tbody>\n",
       "    <tr>\n",
       "      <th>36899</th>\n",
       "      <td>South Africa</td>\n",
       "      <td>Employed, full-time;Independent contractor, fr...</td>\n",
       "      <td>13818022.0</td>\n",
       "    </tr>\n",
       "    <tr>\n",
       "      <th>36894</th>\n",
       "      <td>South Africa</td>\n",
       "      <td>Employed, full-time;Independent contractor, fr...</td>\n",
       "      <td>13818022.0</td>\n",
       "    </tr>\n",
       "    <tr>\n",
       "      <th>36900</th>\n",
       "      <td>South Africa</td>\n",
       "      <td>Employed, full-time;Independent contractor, fr...</td>\n",
       "      <td>13818022.0</td>\n",
       "    </tr>\n",
       "    <tr>\n",
       "      <th>36898</th>\n",
       "      <td>South Africa</td>\n",
       "      <td>Employed, full-time;Independent contractor, fr...</td>\n",
       "      <td>13818022.0</td>\n",
       "    </tr>\n",
       "    <tr>\n",
       "      <th>36896</th>\n",
       "      <td>South Africa</td>\n",
       "      <td>Employed, full-time;Independent contractor, fr...</td>\n",
       "      <td>13818022.0</td>\n",
       "    </tr>\n",
       "  </tbody>\n",
       "</table>\n",
       "</div>"
      ],
      "text/plain": [
       "            Country                                         Employment  \\\n",
       "36899  South Africa  Employed, full-time;Independent contractor, fr...   \n",
       "36894  South Africa  Employed, full-time;Independent contractor, fr...   \n",
       "36900  South Africa  Employed, full-time;Independent contractor, fr...   \n",
       "36898  South Africa  Employed, full-time;Independent contractor, fr...   \n",
       "36896  South Africa  Employed, full-time;Independent contractor, fr...   \n",
       "\n",
       "       ConvertedCompYearly  \n",
       "36899           13818022.0  \n",
       "36894           13818022.0  \n",
       "36900           13818022.0  \n",
       "36898           13818022.0  \n",
       "36896           13818022.0  "
      ]
     },
     "execution_count": 11,
     "metadata": {},
     "output_type": "execute_result"
    }
   ],
   "source": [
    "# Top few outliers\n",
    "outliers[['Country', 'Employment', 'ConvertedCompYearly']].sort_values(by='ConvertedCompYearly', ascending=False).head()"
   ]
  },
  {
   "cell_type": "code",
   "execution_count": 12,
   "id": "27cd76e7",
   "metadata": {},
   "outputs": [
    {
     "data": {
      "image/png": "[encoded data removed]",
      "text/plain": [
       "<Figure size 1000x100 with 1 Axes>"
      ]
     },
     "metadata": {},
     "output_type": "display_data"
    }
   ],
   "source": [
    "# Box Plot\n",
    "\n",
    "plt.figure(figsize=(10, 1))\n",
    "sns.boxplot(x=df['ConvertedCompYearly'], color='skyblue')\n",
    "plt.title('Yearly Compensation')\n",
    "plt.show()"
   ]
  },
  {
   "cell_type": "markdown",
   "id": "8c97cf4b",
   "metadata": {},
   "source": [
    "##### Detect Outliers in Compensation"
   ]
  },
  {
   "cell_type": "markdown",
   "id": "ec2e4c21",
   "metadata": {},
   "source": [
    "Identify outliers in the `ConvertedCompYearly` column using the IQR method.\n",
    "\n",
    "* Calculate the Interquartile Range (IQR).\n",
    "   - $IQR = Q3 - Q1$\n",
    "\n",
    "* Determine the upper and lower bounds for outliers.\n",
    "\n",
    "* Count and visualize outliers using a box plot."
   ]
  },
  {
   "cell_type": "code",
   "execution_count": 13,
   "id": "136b12e4",
   "metadata": {},
   "outputs": [
    {
     "name": "stdout",
     "output_type": "stream",
     "text": [
      "Q1: 61071.00\n",
      "Q3: 73842.00\n",
      "IQR: 12771.00\n"
     ]
    }
   ],
   "source": [
    "# Calculate the IQR\n",
    "\n",
    "Q1 = df['ConvertedCompYearly'].quantile(0.25)\n",
    "Q3 = df['ConvertedCompYearly'].quantile(0.75)\n",
    "IQR = Q3 - Q1\n",
    "\n",
    "print(f\"Q1: {Q1:.2f}\")\n",
    "print(f\"Q3: {Q3:.2f}\")\n",
    "print(f\"IQR: {IQR:.2f}\")"
   ]
  },
  {
   "cell_type": "code",
   "execution_count": 14,
   "id": "620c594c",
   "metadata": {},
   "outputs": [
    {
     "name": "stdout",
     "output_type": "stream",
     "text": [
      "Lower Bound: 41914.50\n",
      "Upper Bound: 92998.50\n"
     ]
    }
   ],
   "source": [
    "# Define Bounds for Outliers\n",
    "\n",
    "lower_bound = Q1 - 1.5 * IQR\n",
    "upper_bound = Q3 + 1.5 * IQR\n",
    "\n",
    "print(f\"Lower Bound: {lower_bound:.2f}\")\n",
    "print(f\"Upper Bound: {upper_bound:.2f}\")"
   ]
  },
  {
   "cell_type": "code",
   "execution_count": 15,
   "id": "e245f0d7",
   "metadata": {},
   "outputs": [
    {
     "name": "stdout",
     "output_type": "stream",
     "text": [
      "Number of Outliers Detected: 55113\n"
     ]
    }
   ],
   "source": [
    "# Identify and Count Outliers\n",
    "\n",
    "outliers_iqr = df[(df['ConvertedCompYearly'] <= lower_bound) | (df['ConvertedCompYearly'] >= upper_bound)]\n",
    "print(f\"Number of Outliers Detected: {len(outliers_iqr)}\")"
   ]
  },
  {
   "cell_type": "code",
   "execution_count": 16,
   "id": "e39fbd5a",
   "metadata": {},
   "outputs": [
    {
     "data": {
      "image/png": "[encoded data removed]",
      "text/plain": [
       "<Figure size 1000x100 with 1 Axes>"
      ]
     },
     "metadata": {},
     "output_type": "display_data"
    }
   ],
   "source": [
    "# Visualize with a Box Plot\n",
    "\n",
    "plt.figure(figsize=(10, 1))\n",
    "sns.boxplot(x=df['ConvertedCompYearly'], color='lightgreen')\n",
    "plt.title('Yearly Compensation (IQR Method)')\n",
    "plt.show()"
   ]
  },
  {
   "cell_type": "markdown",
   "id": "a75dd747",
   "metadata": {},
   "source": [
    "##### Remove Outliers and Create a New DataFrame"
   ]
  },
  {
   "cell_type": "markdown",
   "id": "8a3c014f",
   "metadata": {},
   "source": [
    "Remove outliers from the dataset.\n",
    "\n",
    "* Create a new DataFrame excluding rows with outliers in `ConvertedCompYearly`.\n",
    "\n",
    "* Validate the size of the new DataFrame."
   ]
  },
  {
   "cell_type": "code",
   "execution_count": 17,
   "id": "691b6bc4",
   "metadata": {},
   "outputs": [],
   "source": [
    "# Filter Out Outliers in a new df\n",
    "\n",
    "df_no_outliers = df[(df['ConvertedCompYearly'] >= lower_bound) & (df['ConvertedCompYearly'] <= upper_bound)]"
   ]
  },
  {
   "cell_type": "code",
   "execution_count": 18,
   "id": "1c741833",
   "metadata": {},
   "outputs": [
    {
     "name": "stdout",
     "output_type": "stream",
     "text": [
      "Original size: 157077 rows\n",
      "Cleaned size: 101964 rows\n",
      "Removed outliers: 55113 rows\n"
     ]
    }
   ],
   "source": [
    "# Validate New DataFrame Size\n",
    "\n",
    "print(f\"Original size: {df.shape[0]} rows\")\n",
    "print(f\"Cleaned size: {df_no_outliers.shape[0]} rows\")\n",
    "print(f\"Removed outliers: {df.shape[0] - df_no_outliers.shape[0]} rows\")"
   ]
  },
  {
   "cell_type": "markdown",
   "id": "0e981cae",
   "metadata": {},
   "source": [
    "##### Correlation Analysis"
   ]
  },
  {
   "cell_type": "markdown",
   "id": "c64bd8f4",
   "metadata": {},
   "source": [
    "Analyze the correlation between `Age` (transformed) and other numerical columns.\n",
    "\n",
    "* Map the `Age` column to approximate numeric values.\n",
    "\n",
    "* Compute correlations between `Age` and other numeric variables.\n",
    "\n",
    "* Visualize the correlation matrix."
   ]
  },
  {
   "cell_type": "code",
   "execution_count": 19,
   "id": "28cdbb8d",
   "metadata": {},
   "outputs": [
    {
     "data": {
      "text/plain": [
       "19882     25-34 years old\n",
       "73979     35-44 years old\n",
       "15444     55-64 years old\n",
       "133861    45-54 years old\n",
       "79456     18-24 years old\n",
       "Name: Age, dtype: object"
      ]
     },
     "execution_count": 19,
     "metadata": {},
     "output_type": "execute_result"
    }
   ],
   "source": [
    "df['Age'].sample(5)"
   ]
  },
  {
   "cell_type": "code",
   "execution_count": 20,
   "id": "9dbf704f",
   "metadata": {},
   "outputs": [
    {
     "data": {
      "text/plain": [
       "array(['35-44 years old', '45-54 years old', '25-34 years old',\n",
       "       '55-64 years old', '18-24 years old', '65 years or older',\n",
       "       'Prefer not to say', 'Under 18 years old'], dtype=object)"
      ]
     },
     "execution_count": 20,
     "metadata": {},
     "output_type": "execute_result"
    }
   ],
   "source": [
    "df['Age'].unique()"
   ]
  },
  {
   "cell_type": "code",
   "execution_count": 21,
   "id": "8b6d59e5",
   "metadata": {},
   "outputs": [
    {
     "data": {
      "text/plain": [
       "152589    30.0\n",
       "42698     40.0\n",
       "100571    21.0\n",
       "Name: AgeNumeric, dtype: float64"
      ]
     },
     "execution_count": 21,
     "metadata": {},
     "output_type": "execute_result"
    }
   ],
   "source": [
    "# Convert Age to Numeric\n",
    "\n",
    "age_map = {\n",
    "    'Under 18 years old': 16,\n",
    "    '18-24 years old': 21,\n",
    "    '25-34 years old': 30,\n",
    "    '35-44 years old': 40,\n",
    "    '45-54 years old': 50,\n",
    "    '55-64 years old': 60,\n",
    "    '65 years or older': 70,\n",
    "    'Prefer not to say': None\n",
    "}\n",
    "\n",
    "df['AgeNumeric'] = df['Age'].map(age_map)\n",
    "\n",
    "df['AgeNumeric'].sample(3)"
   ]
  },
  {
   "cell_type": "code",
   "execution_count": 22,
   "id": "69edfac9",
   "metadata": {},
   "outputs": [
    {
     "name": "stdout",
     "output_type": "stream",
     "text": [
      "                     Unnamed: 0  ResponseId  YearsCodePro  CompTotal  \\\n",
      "Unnamed: 0             1.000000    0.998266      0.021503  -0.000000   \n",
      "ResponseId             0.998266    1.000000      0.022269  -0.000000   \n",
      "YearsCodePro           0.021503    0.022269      1.000000  -0.001862   \n",
      "CompTotal             -0.000000   -0.000000     -0.001862   0.000000   \n",
      "WorkExp                0.013991    0.014722      0.891671  -0.001727   \n",
      "JobSatPoints_1         0.003493    0.003326     -0.029737  -0.000000   \n",
      "JobSatPoints_4        -0.014822   -0.014665     -0.069216  -0.000000   \n",
      "JobSatPoints_5        -0.014453   -0.014181     -0.109039  -0.000000   \n",
      "JobSatPoints_6         0.002900    0.003010     -0.068919  -0.000000   \n",
      "JobSatPoints_7         0.005636    0.005482     -0.107991  -0.000000   \n",
      "JobSatPoints_8         0.001658    0.001562     -0.053171  -0.000000   \n",
      "JobSatPoints_9         0.005852    0.005607     -0.101311  -0.000000   \n",
      "JobSatPoints_10       -0.000887   -0.000725     -0.117576  -0.000000   \n",
      "JobSatPoints_11       -0.004071   -0.003953     -0.110531  -0.000000   \n",
      "ConvertedCompYearly   -0.044968   -0.045758      0.111697  -0.000000   \n",
      "JobSat                 0.003323    0.003759      0.103294  -0.014614   \n",
      "AgeNumeric             0.014999    0.015586      0.807636  -0.002672   \n",
      "\n",
      "                      WorkExp  JobSatPoints_1  JobSatPoints_4  JobSatPoints_5  \\\n",
      "Unnamed: 0           0.013991        0.003493       -0.014822       -0.014453   \n",
      "ResponseId           0.014722        0.003326       -0.014665       -0.014181   \n",
      "YearsCodePro         0.891671       -0.029737       -0.069216       -0.109039   \n",
      "CompTotal           -0.001727       -0.000000       -0.000000       -0.000000   \n",
      "WorkExp              1.000000       -0.023945       -0.066112       -0.103748   \n",
      "JobSatPoints_1      -0.023945        1.000000        0.464514        0.649691   \n",
      "JobSatPoints_4      -0.066112        0.464514        1.000000        0.541192   \n",
      "JobSatPoints_5      -0.103748        0.649691        0.541192        1.000000   \n",
      "JobSatPoints_6      -0.076969        0.628635        0.469785        0.634741   \n",
      "JobSatPoints_7      -0.111769        0.618158        0.476360        0.626348   \n",
      "JobSatPoints_8      -0.057446        0.641300        0.457918        0.645605   \n",
      "JobSatPoints_9      -0.094537        0.612078        0.487290        0.640620   \n",
      "JobSatPoints_10     -0.113656        0.600464        0.509664        0.657933   \n",
      "JobSatPoints_11     -0.104577        0.620738        0.544183        0.704080   \n",
      "ConvertedCompYearly  0.102451        0.012968        0.008280       -0.022025   \n",
      "JobSat               0.096688        0.096185        0.031402        0.051787   \n",
      "AgeNumeric           0.843720       -0.027807       -0.084130       -0.106800   \n",
      "\n",
      "                     JobSatPoints_6  JobSatPoints_7  JobSatPoints_8  \\\n",
      "Unnamed: 0                 0.002900        0.005636        0.001658   \n",
      "ResponseId                 0.003010        0.005482        0.001562   \n",
      "YearsCodePro              -0.068919       -0.107991       -0.053171   \n",
      "CompTotal                 -0.000000       -0.000000       -0.000000   \n",
      "WorkExp                   -0.076969       -0.111769       -0.057446   \n",
      "JobSatPoints_1             0.628635        0.618158        0.641300   \n",
      "JobSatPoints_4             0.469785        0.476360        0.457918   \n",
      "JobSatPoints_5             0.634741        0.626348        0.645605   \n",
      "JobSatPoints_6             1.000000        0.703215        0.660803   \n",
      "JobSatPoints_7             0.703215        1.000000        0.718191   \n",
      "JobSatPoints_8             0.660803        0.718191        1.000000   \n",
      "JobSatPoints_9             0.646811        0.677731        0.672865   \n",
      "JobSatPoints_10            0.606175        0.657426        0.632405   \n",
      "JobSatPoints_11            0.618905        0.633212        0.639286   \n",
      "ConvertedCompYearly       -0.009186       -0.030485       -0.010537   \n",
      "JobSat                     0.046249        0.036799        0.053971   \n",
      "AgeNumeric                -0.063572       -0.097337       -0.059539   \n",
      "\n",
      "                     JobSatPoints_9  JobSatPoints_10  JobSatPoints_11  \\\n",
      "Unnamed: 0                 0.005852        -0.000887        -0.004071   \n",
      "ResponseId                 0.005607        -0.000725        -0.003953   \n",
      "YearsCodePro              -0.101311        -0.117576        -0.110531   \n",
      "CompTotal                 -0.000000        -0.000000        -0.000000   \n",
      "WorkExp                   -0.094537        -0.113656        -0.104577   \n",
      "JobSatPoints_1             0.612078         0.600464         0.620738   \n",
      "JobSatPoints_4             0.487290         0.509664         0.544183   \n",
      "JobSatPoints_5             0.640620         0.657933         0.704080   \n",
      "JobSatPoints_6             0.646811         0.606175         0.618905   \n",
      "JobSatPoints_7             0.677731         0.657426         0.633212   \n",
      "JobSatPoints_8             0.672865         0.632405         0.639286   \n",
      "JobSatPoints_9             1.000000         0.678209         0.667031   \n",
      "JobSatPoints_10            0.678209         1.000000         0.746993   \n",
      "JobSatPoints_11            0.667031         0.746993         1.000000   \n",
      "ConvertedCompYearly       -0.014300        -0.019063        -0.012169   \n",
      "JobSat                     0.034465         0.050371         0.047346   \n",
      "AgeNumeric                -0.093928        -0.119833        -0.110954   \n",
      "\n",
      "                     ConvertedCompYearly    JobSat  AgeNumeric  \n",
      "Unnamed: 0                     -0.044968  0.003323    0.014999  \n",
      "ResponseId                     -0.045758  0.003759    0.015586  \n",
      "YearsCodePro                    0.111697  0.103294    0.807636  \n",
      "CompTotal                      -0.000000 -0.014614   -0.002672  \n",
      "WorkExp                         0.102451  0.096688    0.843720  \n",
      "JobSatPoints_1                  0.012968  0.096185   -0.027807  \n",
      "JobSatPoints_4                  0.008280  0.031402   -0.084130  \n",
      "JobSatPoints_5                 -0.022025  0.051787   -0.106800  \n",
      "JobSatPoints_6                 -0.009186  0.046249   -0.063572  \n",
      "JobSatPoints_7                 -0.030485  0.036799   -0.097337  \n",
      "JobSatPoints_8                 -0.010537  0.053971   -0.059539  \n",
      "JobSatPoints_9                 -0.014300  0.034465   -0.093928  \n",
      "JobSatPoints_10                -0.019063  0.050371   -0.119833  \n",
      "JobSatPoints_11                -0.012169  0.047346   -0.110954  \n",
      "ConvertedCompYearly             1.000000  0.038307    0.098505  \n",
      "JobSat                          0.038307  1.000000    0.070408  \n",
      "AgeNumeric                      0.098505  0.070408    1.000000  \n"
     ]
    }
   ],
   "source": [
    "# Compute Correlation\n",
    "\n",
    "numeric_df = df.select_dtypes(include=['float64', 'int64']).copy()\n",
    "numeric_df['AgeNumeric'] = df['AgeNumeric']\n",
    "\n",
    "corr_matrix = numeric_df.corr()\n",
    "\n",
    "print(corr_matrix)"
   ]
  },
  {
   "cell_type": "code",
   "execution_count": 23,
   "id": "6dbb660c",
   "metadata": {},
   "outputs": [
    {
     "name": "stdout",
     "output_type": "stream",
     "text": [
      "AgeNumeric             1.000000\n",
      "WorkExp                0.843720\n",
      "YearsCodePro           0.807636\n",
      "ConvertedCompYearly    0.098505\n",
      "JobSat                 0.070408\n",
      "ResponseId             0.015586\n",
      "Unnamed: 0             0.014999\n",
      "CompTotal             -0.002672\n",
      "JobSatPoints_1        -0.027807\n",
      "JobSatPoints_8        -0.059539\n",
      "JobSatPoints_6        -0.063572\n",
      "JobSatPoints_4        -0.084130\n",
      "JobSatPoints_9        -0.093928\n",
      "JobSatPoints_7        -0.097337\n",
      "JobSatPoints_5        -0.106800\n",
      "JobSatPoints_11       -0.110954\n",
      "JobSatPoints_10       -0.119833\n",
      "Name: AgeNumeric, dtype: float64\n"
     ]
    }
   ],
   "source": [
    "# Correlation of AgeNumeric with other numeric variables\n",
    "age_corr = corr_matrix['AgeNumeric'].sort_values(ascending=False)\n",
    "print(age_corr)"
   ]
  },
  {
   "cell_type": "code",
   "execution_count": 24,
   "id": "6f12f673",
   "metadata": {},
   "outputs": [
    {
     "data": {
      "image/png": "[encoded data removed]",
      "text/plain": [
       "<Figure size 1000x600 with 2 Axes>"
      ]
     },
     "metadata": {},
     "output_type": "display_data"
    }
   ],
   "source": [
    "# Visualize Correlation Matrix\n",
    "\n",
    "plt.figure(figsize=(10, 6))\n",
    "sns.heatmap(corr_matrix[['AgeNumeric']].sort_values(by='AgeNumeric', ascending=False), annot=True, cmap='coolwarm')\n",
    "plt.title(\"Correlation of Age with Other Numerical Features\")\n",
    "plt.show()"
   ]
  },
  {
   "cell_type": "markdown",
   "id": "46669d12",
   "metadata": {},
   "source": []
  },
  {
   "cell_type": "code",
   "execution_count": 25,
   "id": "3a43f0f3",
   "metadata": {},
   "outputs": [
    {
     "name": "stdout",
     "output_type": "stream",
     "text": [
      "File saved successfully !\n"
     ]
    }
   ],
   "source": [
    "df.to_csv('./cleaned_survey_data3.csv', index=False)\n",
    "print(\"File saved successfully !\")"
   ]
  }
 ],
 "metadata": {
  "kernelspec": {
   "display_name": "Python 3",
   "language": "python",
   "name": "python3"
  },
  "language_info": {
   "codemirror_mode": {
    "name": "ipython",
    "version": 3
   },
   "file_extension": ".py",
   "mimetype": "text/x-python",
   "name": "python",
   "nbconvert_exporter": "python",
   "pygments_lexer": "ipython3",
   "version": "3.11.9"
  }
 },
 "nbformat": 4,
 "nbformat_minor": 5
}
