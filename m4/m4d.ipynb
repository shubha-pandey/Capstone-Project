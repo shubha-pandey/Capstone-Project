{
 "cells": [
  {
   "cell_type": "markdown",
   "id": "d66c52e8",
   "metadata": {},
   "source": [
    "### Visualizing Data with Bubble Plots"
   ]
  },
  {
   "cell_type": "markdown",
   "id": "f27762de",
   "metadata": {},
   "source": [
    "Import Libraries and Load the Dataset"
   ]
  },
  {
   "cell_type": "code",
   "execution_count": null,
   "id": "89807002",
   "metadata": {},
   "outputs": [],
   "source": [
    "# Import libraries\n",
    "import pandas as pd\n",
    "import matplotlib.pyplot as plt\n",
    "import seaborn as sns"
   ]
  },
  {
   "cell_type": "code",
   "execution_count": null,
   "id": "35759374",
   "metadata": {},
   "outputs": [],
   "source": [
    "file_path = r'D:\\New folder (4)\\Coursera\\DA Capstone\\cleaned_survey_data3.csv'\n",
    "\n",
    "dfo = pd.read_csv(file_path)\n",
    "\n",
    "dfo.head()    # Display the first five rows"
   ]
  },
  {
   "cell_type": "code",
   "execution_count": null,
   "id": "f4e84ada",
   "metadata": {},
   "outputs": [],
   "source": [
    "df = dfo.copy()"
   ]
  },
  {
   "cell_type": "markdown",
   "id": "63439f1f",
   "metadata": {},
   "source": [
    "##### Exploring Data Distributions Using Bubble Plots"
   ]
  },
  {
   "cell_type": "markdown",
   "id": "5477de73",
   "metadata": {},
   "source": [
    "Bubble Plot for Age vs. Frequency of Participation\n",
    "\n",
    "   - Visualize the relationship between respondents’ age and their participation frequency (SOPartFreq) using a bubble plot.\n",
    "\n",
    "   - Use the size of the bubbles to represent their job satisfaction (JobSat)."
   ]
  },
  {
   "cell_type": "markdown",
   "metadata": {},
   "source": [
    "Bubble Plot for Compensation vs. Job Satisfaction\n",
    "\n",
    "   - Visualize the relationship between yearly compensation (ConvertedCompYearly) and job satisfaction (JobSat).\n",
    "      - Use the size of the bubbles to represent respondents’ age."
   ]
  },
  {
   "cell_type": "markdown",
   "id": "d5124af9",
   "metadata": {},
   "source": [
    "##### Analyzing Relationships Using Bubble Plots"
   ]
  },
  {
   "cell_type": "markdown",
   "id": "d02f17f7",
   "metadata": {},
   "source": [
    "Bubble Plot of Technology Preferences by Age\n",
    "\n",
    "   - Visualize the popularity of programming languages respondents have worked with (LanguageHaveWorkedWith) across age groups.\n",
    "\n",
    "   - Use bubble size to represent the frequency of each language."
   ]
  },
  {
   "cell_type": "markdown",
   "id": "a6b04264",
   "metadata": {},
   "source": [
    "Bubble Plot for Preferred Databases vs. Job Satisfaction\n",
    "\n",
    "- Explore the relationship between preferred databases (DatabaseWantToWorkWith) and job satisfaction.\n",
    "\n",
    "- Use bubble size to indicate the number of respondents for each database."
   ]
  },
  {
   "cell_type": "markdown",
   "id": "257c6efa",
   "metadata": {},
   "source": [
    "##### Comparing Data Using Bubble Plots"
   ]
  },
  {
   "cell_type": "markdown",
   "id": "e21fb0cf",
   "metadata": {},
   "source": [
    "Bubble Plot for Compensation Across Developer Roles\n",
    "\n",
    "- Visualize compensation (ConvertedCompYearly) across different developer roles (DevType).\n",
    "\n",
    "- Use bubble size to represent job satisfaction."
   ]
  },
  {
   "cell_type": "markdown",
   "id": "7f5c7d4b",
   "metadata": {},
   "source": [
    "Bubble Plot for Collaboration Tools by Age\n",
    "\n",
    "- Visualize the relationship between the collaboration tools used (NEWCollabToolsHaveWorkedWith) and age groups.\n",
    "\n",
    "- Use bubble size to represent the frequency of tool usage."
   ]
  },
  {
   "cell_type": "markdown",
   "id": "e63888a6",
   "metadata": {},
   "source": [
    "#### Visualizing Technology Trends Using Bubble Plots"
   ]
  },
  {
   "cell_type": "markdown",
   "id": "764d25b4",
   "metadata": {},
   "source": [
    "Bubble Plot for Preferred Web Frameworks vs. Job Satisfaction\n",
    "\n",
    "- Explore the relationship between preferred web frameworks (WebframeWantToWorkWith) and job satisfaction.\n",
    "\n",
    "- Use bubble size to represent the number of respondents."
   ]
  },
  {
   "cell_type": "markdown",
   "id": "3a4bdd41",
   "metadata": {},
   "source": [
    "Bubble Plot for Admired Technologies Across Countries\n",
    "\n",
    "- Visualize the distribution of admired technologies (LanguageAdmired) across different countries (Country).\n",
    "\n",
    "- Use bubble size to represent the frequency of admiration."
   ]
  }
 ],
 "metadata": {
  "language_info": {
   "name": "python"
  }
 },
 "nbformat": 4,
 "nbformat_minor": 5
}
