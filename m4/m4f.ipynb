{
 "cells": [
  {
   "cell_type": "markdown",
   "id": "897b1727",
   "metadata": {},
   "source": [
    "### Visualizing Data with Stacked Charts"
   ]
  },
  {
   "cell_type": "markdown",
   "id": "c1faa175",
   "metadata": {},
   "source": [
    "Import Libraries and Load the Dataset"
   ]
  },
  {
   "cell_type": "code",
   "execution_count": null,
   "id": "0ec801ce",
   "metadata": {},
   "outputs": [],
   "source": [
    "# Import libraries\n",
    "import pandas as pd\n",
    "import matplotlib.pyplot as plt\n",
    "import seaborn as sns"
   ]
  },
  {
   "cell_type": "code",
   "execution_count": null,
   "id": "916ee944",
   "metadata": {},
   "outputs": [],
   "source": [
    "file_path = r'D:\\New folder (4)\\Coursera\\DA Capstone\\cleaned_survey_data3.csv'\n",
    "\n",
    "dfo = pd.read_csv(file_path)\n",
    "\n",
    "dfo.head()    # Display the first five rows"
   ]
  },
  {
   "cell_type": "code",
   "execution_count": null,
   "id": "2f51895d",
   "metadata": {},
   "outputs": [],
   "source": [
    "df = dfo.copy()"
   ]
  },
  {
   "cell_type": "markdown",
   "id": "82e2dd12",
   "metadata": {},
   "source": [
    "##### Stacked Chart for Composition of Job Satisfaction Across Age Groups"
   ]
  },
  {
   "cell_type": "markdown",
   "id": "0c01adc2",
   "metadata": {},
   "source": [
    "Stacked Chart of Median JobSatPoints_6 and JobSatPoints_7 for Different Age Groups\n",
    "\n",
    "Visualize the composition of job satisfaction scores (JobSatPoints_6 and JobSatPoints_7) across various age groups. This will help in understanding the breakdown of satisfaction levels across different demographics."
   ]
  },
  {
   "cell_type": "markdown",
   "id": "05d0c65f",
   "metadata": {},
   "source": [
    "Stacked Chart of JobSatPoints_6 and JobSatPoints_7 for Employment Status\n",
    "\n",
    "Create a stacked chart to compare job satisfaction (JobSatPoints_6 and JobSatPoints_7) across different employment statuses. This will show how satisfaction varies by employment type."
   ]
  },
  {
   "cell_type": "markdown",
   "id": "63fd47d6",
   "metadata": {},
   "source": [
    "##### Stacked Chart for Compensation and Job Satisfaction by Age Group"
   ]
  },
  {
   "cell_type": "markdown",
   "metadata": {},
   "source": [
    "This stacked chart visualizes the composition of compensation (ConvertedCompYearly) and job satisfaction (JobSatPoints_6) specifically for respondents aged 30-35."
   ]
  },
  {
   "cell_type": "markdown",
   "id": "bcc9ae79",
   "metadata": {},
   "source": [
    "Stacked Chart of Median Compensation and Job Satisfaction Across Age Group\n",
    "\n",
    "Compare the median compensation and job satisfaction metrics across different age groups. This helps visualize how compensation and satisfaction levels differ by age."
   ]
  },
  {
   "cell_type": "markdown",
   "id": "fa38fbaf",
   "metadata": {},
   "source": [
    "##### Comparing Data Using Stacked Charts"
   ]
  },
  {
   "cell_type": "markdown",
   "id": "c328fbf6",
   "metadata": {},
   "source": [
    "Stacked Chart of Preferred Databases by Age Group\n",
    "\n",
    "Visualize the top databases that respondents from different age groups wish to learn. Create a stacked chart to show the proportion of each database in each age group."
   ]
  },
  {
   "cell_type": "markdown",
   "id": "6459f061",
   "metadata": {},
   "source": [
    "Stacked Chart of Employment Type by Job Satisfaction\n",
    "\n",
    "Analyze the distribution of employment types within each job satisfaction level using a stacked chart. This will provide insights into how employment types are distributed across various satisfaction ratings."
   ]
  },
  {
   "cell_type": "markdown",
   "id": "61ab59e0",
   "metadata": {},
   "source": [
    "##### Exploring Technology Preferences Using Stacked Charts"
   ]
  },
  {
   "cell_type": "markdown",
   "id": "4fcc41cc",
   "metadata": {},
   "source": [
    "Stacked Chart for Preferred Programming Languages by Age Group\n",
    "\n",
    "Analyze how programming language preferences (LanguageAdmired) vary across age groups."
   ]
  },
  {
   "cell_type": "markdown",
   "id": "b7774ccd",
   "metadata": {},
   "source": [
    "Stacked Chart for Technology Adoption by Employment Type\n",
    "\n",
    "Explore how admired platforms (PlatformAdmired) differ across employment types (e.g., full-time, freelance)"
   ]
  }
 ],
 "metadata": {
  "language_info": {
   "name": "python"
  }
 },
 "nbformat": 4,
 "nbformat_minor": 5
}
