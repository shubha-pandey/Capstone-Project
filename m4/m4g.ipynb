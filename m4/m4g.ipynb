{
 "cells": [
  {
   "cell_type": "markdown",
   "id": "be1c5636",
   "metadata": {},
   "source": [
    "### Visualizing Data with Line Charts"
   ]
  },
  {
   "cell_type": "markdown",
   "id": "4a1198a4",
   "metadata": {},
   "source": [
    "Import Libraries and Load the Dataset"
   ]
  },
  {
   "cell_type": "code",
   "execution_count": null,
   "id": "a20bddcd",
   "metadata": {},
   "outputs": [],
   "source": [
    "# Import libraries\n",
    "import pandas as pd\n",
    "import matplotlib.pyplot as plt\n",
    "import seaborn as sns"
   ]
  },
  {
   "cell_type": "code",
   "execution_count": null,
   "id": "3fd95e42",
   "metadata": {},
   "outputs": [],
   "source": [
    "file_path = r'D:\\New folder (4)\\Coursera\\DA Capstone\\cleaned_survey_data3.csv'\n",
    "\n",
    "dfo = pd.read_csv(file_path)\n",
    "\n",
    "dfo.head()    # Display the first five rows"
   ]
  },
  {
   "cell_type": "code",
   "execution_count": null,
   "id": "7cc386fd",
   "metadata": {},
   "outputs": [],
   "source": [
    "df = dfo.copy()"
   ]
  },
  {
   "cell_type": "markdown",
   "id": "26d85e4e",
   "metadata": {},
   "source": [
    "##### Trends in Compensation Over Age Groups"
   ]
  },
  {
   "cell_type": "markdown",
   "id": "9e807748",
   "metadata": {},
   "source": [
    "Line Chart of Median ConvertedCompYearly by Age Group\n",
    "\n",
    "- Track how the median yearly compensation (ConvertedCompYearly) changes across different age groups.\n",
    "\n",
    "- Use a line chart to visualize these trends."
   ]
  },
  {
   "cell_type": "markdown",
   "id": "1a8c5312",
   "metadata": {},
   "source": [
    "Line Chart of Median ConvertedCompYearly for Ages 25 to 45\n",
    "\n",
    "For a closer look, plot a line chart focusing on the median compensation for respondents between ages 25 and 45."
   ]
  },
  {
   "cell_type": "markdown",
   "id": "ddc51eec",
   "metadata": {},
   "source": [
    "##### Trends in Job Satisfaction by Experience Level"
   ]
  },
  {
   "cell_type": "markdown",
   "id": "b47515a7",
   "metadata": {},
   "source": [
    "Line Chart of Job Satisfaction (JobSatPoints_6) by Experience Level\n",
    "\n",
    "- Use a column that approximates experience level to analyze how job satisfaction changes with experience.\n",
    "\n",
    "- If needed, substitute an available experience-related column for Experience."
   ]
  },
  {
   "cell_type": "markdown",
   "id": "be496c95",
   "metadata": {},
   "source": [
    "##### Trends in Job Satisfaction and Compensation by Experience"
   ]
  },
  {
   "cell_type": "markdown",
   "id": "985ec0ee",
   "metadata": {},
   "source": [
    "Line Chart of Median ConvertedCompYearly Over Experience Level\n",
    "\n",
    "- This line chart will track how median compensation (ConvertedCompYearly) changes with increasing experience.\n",
    "\n",
    "- Use a column such as WorkExp or another relevant experience-related column."
   ]
  },
  {
   "cell_type": "markdown",
   "id": "5ed1f20a",
   "metadata": {},
   "source": [
    "Line Chart of Job Satisfaction (JobSatPoints_6) Across Experience Levels\n",
    "\n",
    "- Create a line chart to explore trends in job satisfaction (JobSatPoints_6) based on experience level.\n",
    "\n",
    "- This chart will provide insight into how satisfaction correlates with experience over time"
   ]
  }
 ],
 "metadata": {
  "language_info": {
   "name": "python"
  }
 },
 "nbformat": 4,
 "nbformat_minor": 5
}
