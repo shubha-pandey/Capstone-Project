{
 "cells": [
  {
   "cell_type": "markdown",
   "id": "23a5c406",
   "metadata": {},
   "source": [
    "### Visualizing Data with Scatter Plot"
   ]
  },
  {
   "cell_type": "markdown",
   "id": "ce35dd4d",
   "metadata": {},
   "source": [
    "Import Libraries and Load the Dataset"
   ]
  },
  {
   "cell_type": "code",
   "execution_count": null,
   "id": "76222bf2",
   "metadata": {},
   "outputs": [],
   "source": [
    "# Import libraries\n",
    "import pandas as pd\n",
    "import matplotlib.pyplot as plt\n",
    "import seaborn as sns"
   ]
  },
  {
   "cell_type": "code",
   "execution_count": null,
   "id": "bc0b761d",
   "metadata": {},
   "outputs": [],
   "source": [
    "file_path = r'D:\\New folder (4)\\Coursera\\DA Capstone\\cleaned_survey_data3.csv'\n",
    "\n",
    "dfo = pd.read_csv(file_path)\n",
    "\n",
    "dfo.head()    # Display the first five rows"
   ]
  },
  {
   "cell_type": "code",
   "execution_count": null,
   "id": "61a17f90",
   "metadata": {},
   "outputs": [],
   "source": [
    "df = dfo.copy()"
   ]
  },
  {
   "cell_type": "markdown",
   "id": "4db02e78",
   "metadata": {},
   "source": [
    "##### Exploring Relationships with Scatter Plots"
   ]
  },
  {
   "cell_type": "markdown",
   "id": "314846a7",
   "metadata": {},
   "source": [
    "Scatter Plot for Age vs. Job Satisfaction\n",
    "\n",
    "Visualize the relationship between respondents' age (Age) and job satisfaction (JobSatPoints_6). Use this plot to identify any patterns or trends."
   ]
  },
  {
   "cell_type": "markdown",
   "id": "bc1f3961",
   "metadata": {},
   "source": [
    "Scatter Plot for Compensation vs. Job Satisfaction\n",
    "\n",
    "Explore the relationship between yearly compensation (ConvertedCompYearly) and job satisfaction (JobSatPoints_6) using a scatter plot."
   ]
  },
  {
   "cell_type": "markdown",
   "id": "d5260140",
   "metadata": {},
   "source": [
    "##### Enhancing Scatter Plots"
   ]
  },
  {
   "cell_type": "markdown",
   "id": "5e403b3f",
   "metadata": {},
   "source": [
    "Scatter Plot with Trend Line for Age vs. Job Satisfaction\n",
    "\n",
    "Add a regression line to the scatter plot of Age vs. JobSatPoints_6 to highlight trends in the data."
   ]
  },
  {
   "cell_type": "markdown",
   "id": "bcf24c6b",
   "metadata": {},
   "source": [
    "Scatter Plot for Age vs. Work Experience\n",
    "\n",
    "Visualize the relationship between Age (Age) and Work Experience (YearsCodePro) using a scatter plot."
   ]
  },
  {
   "cell_type": "markdown",
   "id": "fd967233",
   "metadata": {},
   "source": [
    "##### Combining Scatter Plots with Additional Features"
   ]
  },
  {
   "cell_type": "markdown",
   "metadata": {},
   "source": [
    "Bubble Plot of Compensation vs. Job Satisfaction with Age as Bubble Size\n",
    "\n",
    "Create a bubble plot to explore the relationship between yearly compensation (ConvertedCompYearly) and job satisfaction (JobSatPoints_6), with bubble size representing age."
   ]
  },
  {
   "cell_type": "markdown",
   "id": "afb72aba",
   "metadata": {},
   "source": [
    "Scatter Plot for Popular Programming Languages by Job Satisfaction\n",
    "\n",
    "Visualize the popularity of programming languages (LanguageHaveWorkedWith) against job satisfaction using a scatter plot. Use points to represent satisfaction levels for each language."
   ]
  },
  {
   "cell_type": "markdown",
   "id": "4bb310af",
   "metadata": {},
   "source": [
    "##### Scatter Plot Comparisons Across Groups"
   ]
  },
  {
   "cell_type": "markdown",
   "id": "70d7cdcc",
   "metadata": {},
   "source": [
    "Scatter Plot for Compensation vs. Job Satisfaction by Employment Type\n",
    "\n",
    "Visualize the relationship between yearly compensation (ConvertedCompYearly) and job satisfaction (JobSatPoints_6), categorized by employment type (Employment). Use color coding or markers to differentiate between employment types."
   ]
  },
  {
   "cell_type": "markdown",
   "id": "939c37a4",
   "metadata": {},
   "source": [
    "Scatter Plot for Work Experience vs. Age Group by Country\n",
    "\n",
    "Compare work experience (YearsCodePro) across different age groups (Age) and countries (Country). Use colors to represent different countries and markers for age groups."
   ]
  }
 ],
 "metadata": {
  "language_info": {
   "name": "python"
  }
 },
 "nbformat": 4,
 "nbformat_minor": 5
}
