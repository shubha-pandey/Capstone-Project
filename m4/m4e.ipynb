{
 "cells": [
  {
   "cell_type": "markdown",
   "id": "1dd4f39b",
   "metadata": {},
   "source": [
    "### Visualizing Data with Pie Charts"
   ]
  },
  {
   "cell_type": "markdown",
   "id": "c6b57241",
   "metadata": {},
   "source": [
    "Import Libraries and Load the Dataset"
   ]
  },
  {
   "cell_type": "code",
   "execution_count": null,
   "id": "071778ed",
   "metadata": {},
   "outputs": [],
   "source": [
    "# Import libraries\n",
    "import pandas as pd\n",
    "import matplotlib.pyplot as plt\n",
    "import seaborn as sns"
   ]
  },
  {
   "cell_type": "code",
   "execution_count": null,
   "id": "d32da510",
   "metadata": {},
   "outputs": [],
   "source": [
    "file_path = r'D:\\New folder (4)\\Coursera\\DA Capstone\\cleaned_survey_data3.csv'\n",
    "\n",
    "dfo = pd.read_csv(file_path)\n",
    "\n",
    "dfo.head()    # Display the first five rows"
   ]
  },
  {
   "cell_type": "code",
   "execution_count": null,
   "id": "68b2870e",
   "metadata": {},
   "outputs": [],
   "source": [
    "df = dfo.copy()"
   ]
  },
  {
   "cell_type": "markdown",
   "id": "ebdd5d46",
   "metadata": {},
   "source": [
    "##### Visualizing Data Composition with Pie Charts"
   ]
  },
  {
   "cell_type": "markdown",
   "id": "57566f89",
   "metadata": {},
   "source": [
    "Create a Pie Chart of the Top 5 Databases Respondents Want to Work With\n",
    "\n",
    "In the survey data, the DatabaseWantToWorkWith column lists the databases that respondents wish to work with. Let’s visualize the top 5 most-desired databases in a pie chart."
   ]
  },
  {
   "cell_type": "code",
   "execution_count": null,
   "id": "507aedef",
   "metadata": {},
   "outputs": [],
   "source": []
  },
  {
   "cell_type": "markdown",
   "id": "cce33933",
   "metadata": {},
   "source": [
    "The DevType column lists the developer types for respondents.   \n",
    "Examine the distribution by showing the top 5 developer roles in a pie chart."
   ]
  },
  {
   "cell_type": "code",
   "execution_count": null,
   "id": "89923420",
   "metadata": {},
   "outputs": [],
   "source": []
  },
  {
   "cell_type": "markdown",
   "id": "16b9b31b",
   "metadata": {},
   "source": [
    "Create a pie chart for the operating systems used by respondents for professional use\n",
    "\n",
    "The `OpSysProfessional` use column shows the operating systems developers use professionally. Let’s visualize the distribution of the top operating systems in a pie chart."
   ]
  },
  {
   "cell_type": "markdown",
   "id": "b98ba4a9",
   "metadata": {},
   "source": [
    "##### Additional Visualizations and Comparisons"
   ]
  },
  {
   "cell_type": "markdown",
   "id": "334c5e84",
   "metadata": {},
   "source": [
    "Pie Chart for Top 5 Programming Languages Respondents Have Worked With\n",
    "\n",
    "The LanguageHaveWorkedWith column contains the programming languages that respondents have experience with. We’ll plot a pie chart to display the composition of the top 5 languages."
   ]
  },
  {
   "cell_type": "markdown",
   "id": "e7bfb5c7",
   "metadata": {},
   "source": [
    "Pie Chart for Top Collaboration Tools used in Professional Use\n",
    "\n",
    "Using the NEWCollabToolsHaveWorkedWith column, we’ll identify and visualize the top collaboration tools respondents use in their professional work."
   ]
  },
  {
   "cell_type": "markdown",
   "id": "ad9452c0",
   "metadata": {},
   "source": [
    "##### Analyzing and Interpreting Composition\n",
    "\n",
    "create additional pie charts to analyze specific aspects of the survey data. Use pandas and matplotlib to complete each task and interpret the findings."
   ]
  },
  {
   "cell_type": "markdown",
   "id": "65a444e6",
   "metadata": {},
   "source": [
    "Pie Chart of Respondents Most Admired Programming Languages\n",
    "\n",
    "The LanguageAdmired column lists the programming languages respondents admire most. Create a pie chart to visualize the top 5 admired languages."
   ]
  },
  {
   "cell_type": "markdown",
   "id": "6ad803f7",
   "metadata": {},
   "source": [
    "Pie Chart of Tools Used for AI Development\n",
    "\n",
    "Using the AIToolCurrently Using column, create a pie chart to visualize the top 5 tools developers are currently using for AI development."
   ]
  },
  {
   "cell_type": "markdown",
   "id": "82442f1a",
   "metadata": {},
   "source": [
    "Pie Chart for Preferred Web Frameworks\n",
    "\n",
    "The WebframeWantToWorkWith column includes web frameworks that respondents are interested in working with. Visualize the top 5 frameworks in a pie chart."
   ]
  },
  {
   "cell_type": "markdown",
   "id": "dc4c07c0",
   "metadata": {},
   "source": [
    "Pie Chart for Most Desired Embedded Technologies\n",
    "\n",
    "Using the EmbeddedWantToWorkWith column, create a pie chart to show the top 5 most desired embedded technologies that respondents wish to work with."
   ]
  }
 ],
 "metadata": {
  "language_info": {
   "name": "python"
  }
 },
 "nbformat": 4,
 "nbformat_minor": 5
}
