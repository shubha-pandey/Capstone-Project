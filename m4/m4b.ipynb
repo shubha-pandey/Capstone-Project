{
 "cells": [
  {
   "cell_type": "markdown",
   "id": "19aa0ab0",
   "metadata": {},
   "source": [
    "### Visualizing Data with Box Plot"
   ]
  },
  {
   "cell_type": "markdown",
   "id": "5e3b3b08",
   "metadata": {},
   "source": [
    "Import Libraries and Load the Dataset"
   ]
  },
  {
   "cell_type": "code",
   "execution_count": null,
   "id": "6b5a80e8",
   "metadata": {},
   "outputs": [],
   "source": [
    "# Import libraries\n",
    "import pandas as pd\n",
    "import matplotlib.pyplot as plt\n",
    "import seaborn as sns"
   ]
  },
  {
   "cell_type": "code",
   "execution_count": null,
   "id": "32415ec2",
   "metadata": {},
   "outputs": [],
   "source": [
    "file_path = r'D:\\New folder (4)\\Coursera\\DA Capstone\\cleaned_survey_data3.csv'\n",
    "\n",
    "dfo = pd.read_csv(file_path)\n",
    "\n",
    "dfo.head()    # Display the first five rows"
   ]
  },
  {
   "cell_type": "code",
   "execution_count": null,
   "id": "044da2e3",
   "metadata": {},
   "outputs": [],
   "source": [
    "df = dfo.copy()"
   ]
  },
  {
   "cell_type": "markdown",
   "id": "eda7e8c1",
   "metadata": {},
   "source": [
    "##### Visualizing the Distribution of Data"
   ]
  },
  {
   "cell_type": "markdown",
   "id": "c2f62245",
   "metadata": {},
   "source": [
    "Box Plot of CompTotal (Total Compensation)\n",
    "\n",
    "Use a box plot to analyze the distribution and outliers in total compensation."
   ]
  },
  {
   "cell_type": "markdown",
   "id": "6440cbba",
   "metadata": {},
   "source": [
    "Box Plot of Age (converted to numeric values)\n",
    "\n",
    "Convert the Age column into numerical values and visualize the distribution."
   ]
  },
  {
   "cell_type": "markdown",
   "id": "22226e45",
   "metadata": {},
   "source": [
    "##### Visualizing Relationships in Data "
   ]
  },
  {
   "cell_type": "markdown",
   "id": "3dbae737",
   "metadata": {},
   "source": [
    "Box Plot of CompTotal Grouped by Age Groups:\n",
    "\n",
    "Visualize the distribution of compensation across different age groups."
   ]
  },
  {
   "cell_type": "markdown",
   "metadata": {},
   "source": [
    "Box Plot of CompTotal Grouped by Job Satisfaction (JobSatPoints_6):\n",
    "\n",
    "Examine how compensation varies based on job satisfaction levels."
   ]
  },
  {
   "cell_type": "markdown",
   "id": "2b841c19",
   "metadata": {},
   "source": [
    "##### Visualizing the Composition of Data"
   ]
  },
  {
   "cell_type": "markdown",
   "id": "65af20c4",
   "metadata": {},
   "source": [
    "Box Plot of ConvertedCompYearly for the Top 5 Developer Types:\n",
    "\n",
    "Analyze compensation across the top 5 developer roles."
   ]
  },
  {
   "cell_type": "markdown",
   "id": "de6417a7",
   "metadata": {},
   "source": [
    "Box Plot of CompTotal for the Top 5 Countries:\n",
    "\n",
    "Analyze compensation across respondents from the top 5 countries."
   ]
  },
  {
   "cell_type": "markdown",
   "id": "d052d7d1",
   "metadata": {},
   "source": [
    "##### Visualizing Comparison of Data"
   ]
  },
  {
   "cell_type": "markdown",
   "id": "0621a06c",
   "metadata": {},
   "source": [
    "Box Plot of CompTotal Across Employment Types:\n",
    "\n",
    "Analyze compensation for different employment types."
   ]
  },
  {
   "cell_type": "markdown",
   "id": "a7c73f15",
   "metadata": {},
   "source": [
    "Box Plot of YearsCodePro by Job Satisfaction (JobSatPoints_6):\n",
    "\n",
    "Examine the distribution of professional coding years by job satisfaction levels."
   ]
  }
 ],
 "metadata": {
  "kernelspec": {
   "display_name": "Python 3",
   "language": "python",
   "name": "python3"
  },
  "language_info": {
   "codemirror_mode": {
    "name": "ipython",
    "version": 3
   },
   "file_extension": ".py",
   "mimetype": "text/x-python",
   "name": "python",
   "nbconvert_exporter": "python",
   "pygments_lexer": "ipython3",
   "version": "3.11.9"
  }
 },
 "nbformat": 4,
 "nbformat_minor": 5
}
